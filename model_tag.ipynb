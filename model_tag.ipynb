{
 "cells": [
  {
   "cell_type": "markdown",
   "metadata": {},
   "source": [
    "#运行一下倒入模块的包"
   ]
  },
  {
   "cell_type": "code",
   "execution_count": 1,
   "metadata": {},
   "outputs": [],
   "source": [
    "import pandas as pd\n",
    "import os\n",
    "import numpy as np\n",
    "from gensim.models import KeyedVectors\n",
    "from sklearn.utils import shuffle\n",
    "import jieba\n",
    "\n",
    "from tensorflow.keras.layers import Input, Dense, LSTM, Conv1D,Dropout,Bidirectional,Multiply,Embedding,MaxPooling1D,ConvLSTM2D,Conv2D,MaxPooling2D\n",
    "from tensorflow.keras.models import Model\n",
    "import tensorflow.keras.backend as K\n",
    "# below bag may have different path \n",
    "from tensorflow.python.keras.layers.merge import concatenate  \n",
    "from tensorflow.python.keras.layers.core import *\n",
    "from tensorflow.python.keras.layers.recurrent import LSTM\n",
    "from tensorflow.keras.models import *\n",
    "from tensorflow.keras.utils import to_categorical"
   ]
  },
  {
   "cell_type": "code",
   "execution_count": 2,
   "metadata": {},
   "outputs": [],
   "source": [
    "## load embedding\n",
    "wv_from_text = KeyedVectors.load_word2vec_format('./tencent-ailab-embedding-zh-d100-v0.2.0-s/tencent-ailab-embedding-zh-d100-v0.2.0-s.txt', binary=False)"
   ]
  },
  {
   "cell_type": "code",
   "execution_count": 32,
   "metadata": {},
   "outputs": [],
   "source": [
    "## load training data\n",
    "file_name = \"starbuck_2018_tag\"\n",
    "pd_all = pd.read_csv(file_name+'.csv')\n",
    "pd_all = shuffle(pd_all)\n",
    "x_data = np.array(pd_all['正文'])\n",
    "y_data = np.array(pd_all['sentimate'])"
   ]
  },
  {
   "cell_type": "code",
   "execution_count": 33,
   "metadata": {},
   "outputs": [],
   "source": [
    "y_data[np.where(y_data<=0.5)[0]]=0\n",
    "y_data[np.where(y_data>0.5)[0]]=1"
   ]
  },
  {
   "cell_type": "code",
   "execution_count": 7,
   "metadata": {},
   "outputs": [],
   "source": [
    "## global factor\n",
    "CONTENT_LEN = 50\n",
    "# INPUT_DIMS = wv_from_text.vector_size\n",
    "INPUT_DIMS = 100\n",
    "TIME_STEPS = CONTENT_LEN\n",
    "lstm_units = 64\n",
    "bs = 100"
   ]
  },
  {
   "cell_type": "code",
   "execution_count": 6,
   "metadata": {},
   "outputs": [],
   "source": [
    "## Tokenize word\n",
    "with open('stopwords.txt','r',encoding='utf-8') as f:\n",
    "    stopwords = f.readlines()\n",
    "    stopwords = [x.rstrip() for x in stopwords]\n"
   ]
  },
  {
   "cell_type": "code",
   "execution_count": 34,
   "metadata": {},
   "outputs": [],
   "source": [
    "## padding the sentence\n",
    "all_content = []\n",
    "for i in range(x_data.shape[0]):\n",
    "    content_i = jieba.lcut(x_data[i])\n",
    "    ## cut text or padding\n",
    "    if len(content_i) > CONTENT_LEN:\n",
    "        content_i = content_i[:CONTENT_LEN]\n",
    "    elif len(content_i) < CONTENT_LEN:\n",
    "        for _ in range(CONTENT_LEN-len(content_i)):\n",
    "            content_i.append('</s>')\n",
    "    ## add current review to all_content(n_observations,sentence_length)\n",
    "    all_content.append(content_i)\n"
   ]
  },
  {
   "cell_type": "code",
   "execution_count": 9,
   "metadata": {},
   "outputs": [
    {
     "name": "stdout",
     "output_type": "stream",
     "text": [
      "Model: \"model\"\n",
      "__________________________________________________________________________________________________\n",
      " Layer (type)                   Output Shape         Param #     Connected to                     \n",
      "==================================================================================================\n",
      " input_1 (InputLayer)           [(None, 50, 100)]    0           []                               \n",
      "                                                                                                  \n",
      " conv1d (Conv1D)                (None, 50, 64)       6464        ['input_1[0][0]']                \n",
      "                                                                                                  \n",
      " dropout (Dropout)              (None, 50, 64)       0           ['conv1d[0][0]']                 \n",
      "                                                                                                  \n",
      " bidirectional (Bidirectional)  (None, 50, 128)      66048       ['dropout[0][0]']                \n",
      "                                                                                                  \n",
      " dropout_1 (Dropout)            (None, 50, 128)      0           ['bidirectional[0][0]']          \n",
      "                                                                                                  \n",
      " dense (Dense)                  (None, 50, 128)      16512       ['dropout_1[0][0]']              \n",
      "                                                                                                  \n",
      " attention_vec (Permute)        (None, 50, 128)      0           ['dense[0][0]']                  \n",
      "                                                                                                  \n",
      " attention_mul (Concatenate)    (None, 50, 256)      0           ['dropout_1[0][0]',              \n",
      "                                                                  'attention_vec[0][0]']          \n",
      "                                                                                                  \n",
      " flatten (Flatten)              (None, 12800)        0           ['attention_mul[0][0]']          \n",
      "                                                                                                  \n",
      " dense_1 (Dense)                (None, 2)            25602       ['flatten[0][0]']                \n",
      "                                                                                                  \n",
      "==================================================================================================\n",
      "Total params: 114,626\n",
      "Trainable params: 114,626\n",
      "Non-trainable params: 0\n",
      "__________________________________________________________________________________________________\n"
     ]
    }
   ],
   "source": [
    "m = load_model(filepath='./model.h5')\n",
    "m.summary()"
   ]
  },
  {
   "cell_type": "code",
   "execution_count": 35,
   "metadata": {},
   "outputs": [
    {
     "name": "stderr",
     "output_type": "stream",
     "text": [
      "<ipython-input-35-0bafd78a265e>:1: DeprecationWarning: The default dtype for empty Series will be 'object' instead of 'float64' in a future version. Specify a dtype explicitly to silence this warning.\n",
      "  pd_all['tag']=pd.Series()\n"
     ]
    }
   ],
   "source": [
    "pd_all['tag']=pd.Series() "
   ]
  },
  {
   "cell_type": "code",
   "execution_count": 36,
   "metadata": {},
   "outputs": [
    {
     "name": "stdout",
     "output_type": "stream",
     "text": [
      "44/44 [==============================] - 1s 14ms/step\n"
     ]
    },
    {
     "name": "stderr",
     "output_type": "stream",
     "text": [
      "<ipython-input-36-dbc8bc7ebd43>:22: SettingWithCopyWarning: \n",
      "A value is trying to be set on a copy of a slice from a DataFrame\n",
      "\n",
      "See the caveats in the documentation: https://pandas.pydata.org/pandas-docs/stable/user_guide/indexing.html#returning-a-view-versus-a-copy\n",
      "  pd_all['tag'][index_start:index_end]=preds.argmax(axis=1)\n"
     ]
    },
    {
     "name": "stdout",
     "output_type": "stream",
     "text": [
      "44/44 [==============================] - 1s 15ms/step\n",
      "44/44 [==============================] - 1s 14ms/step\n",
      "44/44 [==============================] - 1s 14ms/step\n",
      "44/44 [==============================] - 1s 13ms/step\n",
      "44/44 [==============================] - 1s 14ms/step\n",
      "44/44 [==============================] - 1s 14ms/step\n",
      "44/44 [==============================] - 1s 14ms/step\n",
      "44/44 [==============================] - 1s 13ms/step\n",
      "44/44 [==============================] - 1s 14ms/step\n",
      "44/44 [==============================] - 1s 14ms/step\n",
      "44/44 [==============================] - 1s 14ms/step\n",
      "44/44 [==============================] - 1s 14ms/step\n",
      "44/44 [==============================] - 1s 13ms/step\n",
      "44/44 [==============================] - 1s 14ms/step\n",
      "44/44 [==============================] - 1s 14ms/step\n",
      "44/44 [==============================] - 1s 14ms/step\n",
      "44/44 [==============================] - 1s 13ms/step\n",
      "44/44 [==============================] - 1s 13ms/step\n",
      "44/44 [==============================] - 1s 14ms/step\n",
      "44/44 [==============================] - 1s 14ms/step\n",
      "44/44 [==============================] - 1s 15ms/step\n",
      "44/44 [==============================] - 1s 13ms/step\n",
      "44/44 [==============================] - 1s 14ms/step\n",
      "44/44 [==============================] - 1s 14ms/step\n",
      "44/44 [==============================] - 1s 14ms/step\n",
      "44/44 [==============================] - 1s 14ms/step\n",
      "44/44 [==============================] - 1s 13ms/step\n",
      "44/44 [==============================] - 1s 14ms/step\n",
      "44/44 [==============================] - 1s 14ms/step\n",
      "44/44 [==============================] - 1s 14ms/step\n",
      "44/44 [==============================] - 1s 14ms/step\n",
      "44/44 [==============================] - 1s 13ms/step\n",
      "44/44 [==============================] - 1s 14ms/step\n",
      "44/44 [==============================] - 1s 14ms/step\n",
      "44/44 [==============================] - 1s 14ms/step\n",
      "44/44 [==============================] - 1s 14ms/step\n",
      "44/44 [==============================] - 1s 14ms/step\n",
      "44/44 [==============================] - 1s 14ms/step\n",
      "44/44 [==============================] - 1s 14ms/step\n",
      "44/44 [==============================] - 1s 14ms/step\n",
      "44/44 [==============================] - 1s 13ms/step\n",
      "44/44 [==============================] - 1s 16ms/step\n",
      "44/44 [==============================] - 1s 14ms/step\n",
      "44/44 [==============================] - 1s 14ms/step\n",
      "44/44 [==============================] - 1s 14ms/step\n",
      "44/44 [==============================] - 1s 14ms/step\n",
      "44/44 [==============================] - 1s 14ms/step\n",
      "44/44 [==============================] - 1s 14ms/step\n",
      "44/44 [==============================] - 1s 14ms/step\n",
      "44/44 [==============================] - 1s 13ms/step\n",
      "44/44 [==============================] - 1s 14ms/step\n",
      "44/44 [==============================] - 1s 14ms/step\n",
      "44/44 [==============================] - 1s 14ms/step\n",
      "44/44 [==============================] - 1s 14ms/step\n",
      "44/44 [==============================] - 1s 13ms/step\n",
      "44/44 [==============================] - 1s 14ms/step\n",
      "44/44 [==============================] - 1s 14ms/step\n",
      "44/44 [==============================] - 1s 14ms/step\n",
      "44/44 [==============================] - 1s 15ms/step\n",
      "44/44 [==============================] - 1s 14ms/step\n",
      "44/44 [==============================] - 1s 14ms/step\n",
      "44/44 [==============================] - 1s 14ms/step\n",
      "44/44 [==============================] - 1s 14ms/step\n",
      "44/44 [==============================] - 1s 14ms/step\n",
      "44/44 [==============================] - 1s 13ms/step\n",
      "44/44 [==============================] - 1s 14ms/step\n",
      "44/44 [==============================] - 1s 14ms/step\n",
      "44/44 [==============================] - 1s 14ms/step\n",
      "44/44 [==============================] - 1s 13ms/step\n",
      "44/44 [==============================] - 1s 14ms/step\n",
      "44/44 [==============================] - 1s 14ms/step\n",
      "44/44 [==============================] - 1s 15ms/step\n",
      "44/44 [==============================] - 1s 14ms/step\n",
      "44/44 [==============================] - 1s 13ms/step\n",
      "44/44 [==============================] - 1s 14ms/step\n",
      "44/44 [==============================] - 1s 14ms/step\n",
      "44/44 [==============================] - 1s 14ms/step\n",
      "44/44 [==============================] - 1s 14ms/step\n",
      "44/44 [==============================] - 1s 13ms/step\n",
      "44/44 [==============================] - 1s 14ms/step\n",
      "44/44 [==============================] - 1s 14ms/step\n",
      "44/44 [==============================] - 1s 14ms/step\n",
      "44/44 [==============================] - 1s 15ms/step\n",
      "44/44 [==============================] - 1s 19ms/step\n",
      "44/44 [==============================] - 1s 14ms/step\n",
      "44/44 [==============================] - 1s 13ms/step\n",
      "44/44 [==============================] - 1s 13ms/step\n",
      "44/44 [==============================] - 1s 14ms/step\n",
      "44/44 [==============================] - 1s 14ms/step\n",
      "44/44 [==============================] - 1s 14ms/step\n",
      "44/44 [==============================] - 1s 13ms/step\n",
      "44/44 [==============================] - 1s 14ms/step\n",
      "44/44 [==============================] - 1s 14ms/step\n",
      "44/44 [==============================] - 1s 14ms/step\n",
      "44/44 [==============================] - 1s 15ms/step\n",
      "44/44 [==============================] - 1s 13ms/step\n",
      "44/44 [==============================] - 1s 15ms/step\n",
      "44/44 [==============================] - 1s 15ms/step\n",
      "44/44 [==============================] - 1s 14ms/step\n"
     ]
    }
   ],
   "source": [
    "for k in range(bs):\n",
    "    index_start = len(all_content)//bs*k\n",
    "    index_end = len(all_content)//bs*(k+1)\n",
    "    batch_content = all_content[index_start:index_end]\n",
    "    b_y_data = y_data[index_start:index_end]\n",
    "    b_x_data = x_data[index_start:index_end]\n",
    "\n",
    "    ## vectorize each word\n",
    "    v_a_content = np.empty((len(batch_content),CONTENT_LEN,wv_from_text.vector_size),dtype='float')\n",
    "    for i in range(len(batch_content)):\n",
    "        for j in range(CONTENT_LEN):\n",
    "            ## if current word in ailab, convert to vector\n",
    "            try:\n",
    "                v_a_content[i][j] = list(wv_from_text.get_vector(batch_content[i][j]))\n",
    "            ## otherwise, add the first char's vector\n",
    "            except:\n",
    "                v_a_content[i][j] = list(wv_from_text.get_vector('</s>'))\n",
    "\n",
    "    # v_a_content.shape\n",
    "    y = to_categorical(b_y_data)\n",
    "    preds = m.predict(v_a_content)\n",
    "    pd_all['tag'][index_start:index_end]=preds.argmax(axis=1)\n",
    "    # m.fit(v_a_content,y, epochs=5,batch_size=64, validation_split=0.1)\n"
   ]
  },
  {
   "cell_type": "code",
   "execution_count": 37,
   "metadata": {},
   "outputs": [],
   "source": [
    "pd_all.to_csv(file_name+'_new.csv')"
   ]
  },
  {
   "cell_type": "code",
   "execution_count": 38,
   "metadata": {},
   "outputs": [
    {
     "name": "stdout",
     "output_type": "stream",
     "text": [
      "Collecting snownlp\n",
      "  Downloading snownlp-0.12.3.tar.gz (37.6 MB)\n",
      "Building wheels for collected packages: snownlp\n",
      "  Building wheel for snownlp (setup.py): started\n",
      "  Building wheel for snownlp (setup.py): finished with status 'done'\n",
      "  Created wheel for snownlp: filename=snownlp-0.12.3-py3-none-any.whl size=37760960 sha256=67fab21b49c9e15b8cb3f1dcdc68f46a23dfd49e73d5aacd0d4ae9ea8039c4b2\n",
      "  Stored in directory: c:\\users\\74460\\appdata\\local\\pip\\cache\\wheels\\09\\14\\c5\\ea9aee34229caa97c6f6ff78c82c7f2b1a3423c1f37227b6a6\n",
      "Successfully built snownlp\n",
      "Installing collected packages: snownlp\n",
      "Successfully installed snownlp-0.12.3\n"
     ]
    }
   ],
   "source": [
    "!pip install snownlp"
   ]
  },
  {
   "cell_type": "markdown",
   "metadata": {},
   "source": [
    "## evaluate LSTM with snowNLP"
   ]
  },
  {
   "cell_type": "code",
   "execution_count": 39,
   "metadata": {},
   "outputs": [],
   "source": [
    "from snownlp import SnowNLP "
   ]
  },
  {
   "cell_type": "code",
   "execution_count": 42,
   "metadata": {},
   "outputs": [],
   "source": [
    "text = pd.read_csv('weibo_senti_100k.csv')"
   ]
  },
  {
   "cell_type": "code",
   "execution_count": 43,
   "metadata": {},
   "outputs": [
    {
     "data": {
      "text/html": [
       "<div>\n",
       "<style scoped>\n",
       "    .dataframe tbody tr th:only-of-type {\n",
       "        vertical-align: middle;\n",
       "    }\n",
       "\n",
       "    .dataframe tbody tr th {\n",
       "        vertical-align: top;\n",
       "    }\n",
       "\n",
       "    .dataframe thead th {\n",
       "        text-align: right;\n",
       "    }\n",
       "</style>\n",
       "<table border=\"1\" class=\"dataframe\">\n",
       "  <thead>\n",
       "    <tr style=\"text-align: right;\">\n",
       "      <th></th>\n",
       "      <th>label</th>\n",
       "      <th>review</th>\n",
       "    </tr>\n",
       "  </thead>\n",
       "  <tbody>\n",
       "    <tr>\n",
       "      <th>0</th>\n",
       "      <td>1</td>\n",
       "      <td>﻿更博了，爆照了，帅的呀，就是越来越爱你！生快傻缺[爱你][爱你][爱你]</td>\n",
       "    </tr>\n",
       "    <tr>\n",
       "      <th>1</th>\n",
       "      <td>1</td>\n",
       "      <td>@张晓鹏jonathan 土耳其的事要认真对待[哈哈]，否则直接开除。@丁丁看世界 很是细心...</td>\n",
       "    </tr>\n",
       "    <tr>\n",
       "      <th>2</th>\n",
       "      <td>1</td>\n",
       "      <td>姑娘都羡慕你呢…还有招财猫高兴……//@爱在蔓延-JC:[哈哈]小学徒一枚，等着明天见您呢/...</td>\n",
       "    </tr>\n",
       "    <tr>\n",
       "      <th>3</th>\n",
       "      <td>1</td>\n",
       "      <td>美~~~~~[爱你]</td>\n",
       "    </tr>\n",
       "    <tr>\n",
       "      <th>4</th>\n",
       "      <td>1</td>\n",
       "      <td>梦想有多大，舞台就有多大![鼓掌]</td>\n",
       "    </tr>\n",
       "  </tbody>\n",
       "</table>\n",
       "</div>"
      ],
      "text/plain": [
       "   label                                             review\n",
       "0      1              ﻿更博了，爆照了，帅的呀，就是越来越爱你！生快傻缺[爱你][爱你][爱你]\n",
       "1      1  @张晓鹏jonathan 土耳其的事要认真对待[哈哈]，否则直接开除。@丁丁看世界 很是细心...\n",
       "2      1  姑娘都羡慕你呢…还有招财猫高兴……//@爱在蔓延-JC:[哈哈]小学徒一枚，等着明天见您呢/...\n",
       "3      1                                         美~~~~~[爱你]\n",
       "4      1                                  梦想有多大，舞台就有多大![鼓掌]"
      ]
     },
     "execution_count": 43,
     "metadata": {},
     "output_type": "execute_result"
    }
   ],
   "source": [
    "text.head()"
   ]
  },
  {
   "cell_type": "code",
   "execution_count": 45,
   "metadata": {},
   "outputs": [
    {
     "name": "stderr",
     "output_type": "stream",
     "text": [
      "<ipython-input-45-22f13e32a990>:1: DeprecationWarning: The default dtype for empty Series will be 'object' instead of 'float64' in a future version. Specify a dtype explicitly to silence this warning.\n",
      "  text['sentimate']=pd.Series()\n",
      "<ipython-input-45-22f13e32a990>:4: SettingWithCopyWarning: \n",
      "A value is trying to be set on a copy of a slice from a DataFrame\n",
      "\n",
      "See the caveats in the documentation: https://pandas.pydata.org/pandas-docs/stable/user_guide/indexing.html#returning-a-view-versus-a-copy\n",
      "  text['sentimate'][i]=s.sentiments\n"
     ]
    }
   ],
   "source": [
    "text['sentimate']=pd.Series() \n",
    "for i in range(text.shape[0]):\n",
    "    s = SnowNLP(text['review'][i])\n",
    "    text['sentimate'][i]=s.sentiments"
   ]
  },
  {
   "cell_type": "code",
   "execution_count": 46,
   "metadata": {},
   "outputs": [],
   "source": [
    "x_data = np.array(text['review'])\n",
    "y_data = np.array(text['sentimate'])\n",
    "true_label = np.array(text['label'])"
   ]
  },
  {
   "cell_type": "code",
   "execution_count": 47,
   "metadata": {},
   "outputs": [],
   "source": [
    "y_data[np.where(y_data<=0.5)[0]]=0\n",
    "y_data[np.where(y_data>0.5)[0]]=1"
   ]
  },
  {
   "cell_type": "code",
   "execution_count": 48,
   "metadata": {},
   "outputs": [],
   "source": [
    "## padding the sentence\n",
    "all_content = []\n",
    "for i in range(x_data.shape[0]):\n",
    "    content_i = jieba.lcut(x_data[i])\n",
    "    ## cut text or padding\n",
    "    if len(content_i) > CONTENT_LEN:\n",
    "        content_i = content_i[:CONTENT_LEN]\n",
    "    elif len(content_i) < CONTENT_LEN:\n",
    "        for _ in range(CONTENT_LEN-len(content_i)):\n",
    "            content_i.append('</s>')\n",
    "    ## add current review to all_content(n_observations,sentence_length)\n",
    "    all_content.append(content_i)"
   ]
  },
  {
   "cell_type": "code",
   "execution_count": 49,
   "metadata": {},
   "outputs": [
    {
     "name": "stderr",
     "output_type": "stream",
     "text": [
      "<ipython-input-49-e1232b41aa33>:1: DeprecationWarning: The default dtype for empty Series will be 'object' instead of 'float64' in a future version. Specify a dtype explicitly to silence this warning.\n",
      "  text['tag']=pd.Series()\n"
     ]
    }
   ],
   "source": [
    "text['tag']=pd.Series() "
   ]
  },
  {
   "cell_type": "code",
   "execution_count": 50,
   "metadata": {},
   "outputs": [
    {
     "name": "stdout",
     "output_type": "stream",
     "text": [
      "38/38 [==============================] - 1s 14ms/step\n"
     ]
    },
    {
     "name": "stderr",
     "output_type": "stream",
     "text": [
      "<ipython-input-50-cce944d67058>:22: SettingWithCopyWarning: \n",
      "A value is trying to be set on a copy of a slice from a DataFrame\n",
      "\n",
      "See the caveats in the documentation: https://pandas.pydata.org/pandas-docs/stable/user_guide/indexing.html#returning-a-view-versus-a-copy\n",
      "  text['tag'][index_start:index_end]=preds.argmax(axis=1)\n"
     ]
    },
    {
     "name": "stdout",
     "output_type": "stream",
     "text": [
      "38/38 [==============================] - 1s 13ms/step\n",
      "38/38 [==============================] - 1s 13ms/step\n",
      "38/38 [==============================] - 1s 14ms/step\n",
      "38/38 [==============================] - 1s 14ms/step\n",
      "38/38 [==============================] - 1s 14ms/step\n",
      "38/38 [==============================] - 1s 14ms/step\n",
      "38/38 [==============================] - 1s 15ms/step\n",
      "38/38 [==============================] - 1s 16ms/step\n",
      "38/38 [==============================] - 1s 19ms/step\n",
      "38/38 [==============================] - 1s 16ms/step\n",
      "38/38 [==============================] - 1s 15ms/step\n",
      "38/38 [==============================] - 1s 14ms/step\n",
      "38/38 [==============================] - 1s 15ms/step\n",
      "38/38 [==============================] - 1s 15ms/step\n",
      "38/38 [==============================] - 1s 14ms/step\n",
      "38/38 [==============================] - 1s 16ms/step\n",
      "38/38 [==============================] - 1s 14ms/step\n",
      "38/38 [==============================] - 1s 14ms/step\n",
      "38/38 [==============================] - 1s 14ms/step\n",
      "38/38 [==============================] - 1s 14ms/step\n",
      "38/38 [==============================] - 1s 14ms/step\n",
      "38/38 [==============================] - 1s 14ms/step\n",
      "38/38 [==============================] - 1s 15ms/step\n",
      "38/38 [==============================] - 1s 15ms/step\n",
      "38/38 [==============================] - 1s 14ms/step\n",
      "38/38 [==============================] - 1s 14ms/step\n",
      "38/38 [==============================] - 1s 20ms/step\n",
      "38/38 [==============================] - 1s 16ms/step\n",
      "38/38 [==============================] - 1s 17ms/step\n",
      "38/38 [==============================] - 1s 14ms/step\n",
      "38/38 [==============================] - 1s 14ms/step\n",
      "38/38 [==============================] - 1s 15ms/step\n",
      "38/38 [==============================] - 1s 14ms/step\n",
      "38/38 [==============================] - 1s 15ms/step\n",
      "38/38 [==============================] - 1s 14ms/step\n",
      "38/38 [==============================] - 1s 14ms/step\n",
      "38/38 [==============================] - 1s 13ms/step\n",
      "38/38 [==============================] - 1s 14ms/step\n",
      "38/38 [==============================] - 1s 14ms/step\n",
      "38/38 [==============================] - 1s 14ms/step\n",
      "38/38 [==============================] - 1s 14ms/step\n",
      "38/38 [==============================] - 1s 14ms/step\n",
      "38/38 [==============================] - 1s 14ms/step\n",
      "38/38 [==============================] - 1s 14ms/step\n",
      "38/38 [==============================] - 1s 14ms/step\n",
      "38/38 [==============================] - 1s 14ms/step\n",
      "38/38 [==============================] - 1s 14ms/step\n",
      "38/38 [==============================] - 1s 17ms/step\n",
      "38/38 [==============================] - 1s 16ms/step\n",
      "38/38 [==============================] - 1s 15ms/step\n",
      "38/38 [==============================] - 1s 13ms/step\n",
      "38/38 [==============================] - 1s 14ms/step\n",
      "38/38 [==============================] - 1s 14ms/step\n",
      "38/38 [==============================] - 1s 14ms/step\n",
      "38/38 [==============================] - 1s 15ms/step\n",
      "38/38 [==============================] - 1s 15ms/step\n",
      "38/38 [==============================] - 1s 16ms/step\n",
      "38/38 [==============================] - 1s 15ms/step\n",
      "38/38 [==============================] - 1s 18ms/step\n",
      "38/38 [==============================] - 1s 18ms/step\n",
      "38/38 [==============================] - 1s 18ms/step\n",
      "38/38 [==============================] - 1s 15ms/step\n",
      "38/38 [==============================] - 1s 24ms/step\n",
      "38/38 [==============================] - 1s 20ms/step\n",
      "38/38 [==============================] - 1s 21ms/step\n",
      "38/38 [==============================] - 1s 14ms/step\n",
      "38/38 [==============================] - 1s 19ms/step\n",
      "38/38 [==============================] - 1s 21ms/step\n",
      "38/38 [==============================] - 1s 21ms/step\n",
      "38/38 [==============================] - 1s 22ms/step\n",
      "38/38 [==============================] - 1s 20ms/step\n",
      "38/38 [==============================] - 1s 21ms/step\n",
      "38/38 [==============================] - 1s 22ms/step\n",
      "38/38 [==============================] - 1s 24ms/step\n",
      "38/38 [==============================] - 1s 21ms/step\n",
      "38/38 [==============================] - 1s 14ms/step\n",
      "38/38 [==============================] - 1s 15ms/step\n",
      "38/38 [==============================] - 1s 19ms/step\n",
      "38/38 [==============================] - 1s 17ms/step\n",
      "38/38 [==============================] - 1s 14ms/step\n",
      "38/38 [==============================] - 1s 15ms/step\n",
      "38/38 [==============================] - 1s 16ms/step\n",
      "38/38 [==============================] - 1s 14ms/step\n",
      "38/38 [==============================] - 1s 14ms/step\n",
      "38/38 [==============================] - 1s 14ms/step\n",
      "38/38 [==============================] - 1s 14ms/step\n",
      "38/38 [==============================] - 1s 15ms/step\n",
      "38/38 [==============================] - 1s 14ms/step\n",
      "38/38 [==============================] - 1s 15ms/step\n",
      "38/38 [==============================] - 1s 14ms/step\n",
      "38/38 [==============================] - 1s 14ms/step\n",
      "38/38 [==============================] - 1s 15ms/step\n",
      "38/38 [==============================] - 1s 14ms/step\n",
      "38/38 [==============================] - 1s 14ms/step\n",
      "38/38 [==============================] - 1s 13ms/step\n",
      "38/38 [==============================] - 1s 13ms/step\n",
      "38/38 [==============================] - 1s 13ms/step\n",
      "38/38 [==============================] - 1s 13ms/step\n",
      "38/38 [==============================] - 1s 13ms/step\n"
     ]
    }
   ],
   "source": [
    "for k in range(bs):\n",
    "    index_start = len(all_content)//bs*k\n",
    "    index_end = len(all_content)//bs*(k+1)\n",
    "    batch_content = all_content[index_start:index_end]\n",
    "    b_y_data = y_data[index_start:index_end]\n",
    "    b_x_data = x_data[index_start:index_end]\n",
    "\n",
    "    ## vectorize each word\n",
    "    v_a_content = np.empty((len(batch_content),CONTENT_LEN,wv_from_text.vector_size),dtype='float')\n",
    "    for i in range(len(batch_content)):\n",
    "        for j in range(CONTENT_LEN):\n",
    "            ## if current word in ailab, convert to vector\n",
    "            try:\n",
    "                v_a_content[i][j] = list(wv_from_text.get_vector(batch_content[i][j]))\n",
    "            ## otherwise, add the first char's vector\n",
    "            except:\n",
    "                v_a_content[i][j] = list(wv_from_text.get_vector('</s>'))\n",
    "\n",
    "    # v_a_content.shape\n",
    "    y = to_categorical(b_y_data)\n",
    "    preds = m.predict(v_a_content)\n",
    "    text['tag'][index_start:index_end]=preds.argmax(axis=1)"
   ]
  },
  {
   "cell_type": "code",
   "execution_count": 55,
   "metadata": {},
   "outputs": [
    {
     "data": {
      "text/plain": [
       "99"
      ]
     },
     "execution_count": 55,
     "metadata": {},
     "output_type": "execute_result"
    }
   ],
   "source": [
    "k"
   ]
  },
  {
   "cell_type": "code",
   "execution_count": 56,
   "metadata": {},
   "outputs": [
    {
     "name": "stdout",
     "output_type": "stream",
     "text": [
      "3/3 [==============================] - 0s 15ms/step\n"
     ]
    },
    {
     "name": "stderr",
     "output_type": "stream",
     "text": [
      "<ipython-input-56-8ad697fda1b8>:19: SettingWithCopyWarning: \n",
      "A value is trying to be set on a copy of a slice from a DataFrame\n",
      "\n",
      "See the caveats in the documentation: https://pandas.pydata.org/pandas-docs/stable/user_guide/indexing.html#returning-a-view-versus-a-copy\n",
      "  text['tag'][index_end:]=preds.argmax(axis=1)\n"
     ]
    }
   ],
   "source": [
    "batch_content = all_content[index_end:]\n",
    "b_y_data = y_data[index_end:]\n",
    "b_x_data = x_data[index_end:]\n",
    "\n",
    "## vectorize each word\n",
    "v_a_content = np.empty((len(batch_content),CONTENT_LEN,wv_from_text.vector_size),dtype='float')\n",
    "for i in range(len(batch_content)):\n",
    "    for j in range(CONTENT_LEN):\n",
    "        ## if current word in ailab, convert to vector\n",
    "        try:\n",
    "            v_a_content[i][j] = list(wv_from_text.get_vector(batch_content[i][j]))\n",
    "        ## otherwise, add the first char's vector\n",
    "        except:\n",
    "            v_a_content[i][j] = list(wv_from_text.get_vector('</s>'))\n",
    "\n",
    "# v_a_content.shape\n",
    "y = to_categorical(b_y_data)\n",
    "preds = m.predict(v_a_content)\n",
    "text['tag'][index_end:]=preds.argmax(axis=1)"
   ]
  },
  {
   "cell_type": "code",
   "execution_count": 51,
   "metadata": {},
   "outputs": [],
   "source": [
    "from sklearn.metrics import classification_report\n",
    "from sklearn.model_selection import train_test_split"
   ]
  },
  {
   "cell_type": "code",
   "execution_count": 59,
   "metadata": {},
   "outputs": [],
   "source": [
    "pred_2 = np.c_[np.array(text['tag']),y_data]"
   ]
  },
  {
   "cell_type": "code",
   "execution_count": 60,
   "metadata": {},
   "outputs": [
    {
     "data": {
      "text/plain": [
       "array([[1., 1.],\n",
       "       [1., 1.],\n",
       "       [1., 1.],\n",
       "       ...,\n",
       "       [0., 0.],\n",
       "       [0., 0.],\n",
       "       [0., 0.]])"
      ]
     },
     "execution_count": 60,
     "metadata": {},
     "output_type": "execute_result"
    }
   ],
   "source": [
    "pred_2"
   ]
  },
  {
   "cell_type": "code",
   "execution_count": 61,
   "metadata": {},
   "outputs": [],
   "source": [
    "_,pred_label,_,true_label = train_test_split(pred_2,np.array(text['label']))"
   ]
  },
  {
   "cell_type": "code",
   "execution_count": 62,
   "metadata": {},
   "outputs": [
    {
     "name": "stdout",
     "output_type": "stream",
     "text": [
      "BiLSTM               precision    recall  f1-score   support\n",
      "\n",
      "         0.0       0.94      0.94      0.94     15006\n",
      "         1.0       0.94      0.94      0.94     14991\n",
      "\n",
      "    accuracy                           0.94     29997\n",
      "   macro avg       0.94      0.94      0.94     29997\n",
      "weighted avg       0.94      0.94      0.94     29997\n",
      "\n"
     ]
    }
   ],
   "source": [
    "print('BiLSTM',classification_report(pred_label[:,0],true_label))"
   ]
  },
  {
   "cell_type": "code",
   "execution_count": 63,
   "metadata": {},
   "outputs": [
    {
     "name": "stdout",
     "output_type": "stream",
     "text": [
      "snowNLP               precision    recall  f1-score   support\n",
      "\n",
      "         0.0       0.32      0.68      0.43      7034\n",
      "         1.0       0.85      0.55      0.67     22963\n",
      "\n",
      "    accuracy                           0.58     29997\n",
      "   macro avg       0.58      0.62      0.55     29997\n",
      "weighted avg       0.73      0.58      0.61     29997\n",
      "\n"
     ]
    }
   ],
   "source": [
    "print('snowNLP',classification_report(pred_label[:,1],true_label))"
   ]
  },
  {
   "cell_type": "code",
   "execution_count": null,
   "metadata": {},
   "outputs": [],
   "source": []
  }
 ],
 "metadata": {
  "kernelspec": {
   "display_name": "Python 3",
   "language": "python",
   "name": "python3"
  },
  "language_info": {
   "codemirror_mode": {
    "name": "ipython",
    "version": 3
   },
   "file_extension": ".py",
   "mimetype": "text/x-python",
   "name": "python",
   "nbconvert_exporter": "python",
   "pygments_lexer": "ipython3",
   "version": "3.7.0"
  },
  "vscode": {
   "interpreter": {
    "hash": "5203dce6c5b3102577553be3f701df0e08d0636dd311d246f5b61aec4d93201c"
   }
  }
 },
 "nbformat": 4,
 "nbformat_minor": 2
}
