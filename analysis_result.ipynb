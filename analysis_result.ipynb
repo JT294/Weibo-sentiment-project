{
 "cells": [
  {
   "cell_type": "code",
   "execution_count": 2,
   "metadata": {},
   "outputs": [
    {
     "name": "stderr",
     "output_type": "stream",
     "text": [
      "c:\\Users\\Lenovo\\AppData\\Local\\Continuum\\anaconda3\\lib\\site-packages\\numpy\\_distributor_init.py:32: UserWarning: loaded more than 1 DLL from .libs:\n",
      "c:\\Users\\Lenovo\\AppData\\Local\\Continuum\\anaconda3\\lib\\site-packages\\numpy\\.libs\\libopenblas.WCDJNK7YVMPZQ2ME2ZZHJJRJ3JIKNDB7.gfortran-win_amd64.dll\n",
      "c:\\Users\\Lenovo\\AppData\\Local\\Continuum\\anaconda3\\lib\\site-packages\\numpy\\.libs\\libopenblas.XWYDX2IKJW2NMTWSFYNGFUWKQU3LYTCZ.gfortran-win_amd64.dll\n",
      "  stacklevel=1)\n"
     ]
    }
   ],
   "source": [
    "import numpy as np\n",
    "import pandas as pd\n",
    "import matplotlib.pyplot as plt"
   ]
  },
  {
   "cell_type": "markdown",
   "metadata": {},
   "source": [
    "# 探究CBA与snowNLP的不一致"
   ]
  },
  {
   "cell_type": "code",
   "execution_count": 3,
   "metadata": {},
   "outputs": [],
   "source": [
    "text1 = pd.read_csv('lukin_2018_tag_new.csv')"
   ]
  },
  {
   "cell_type": "code",
   "execution_count": 7,
   "metadata": {},
   "outputs": [
    {
     "name": "stderr",
     "output_type": "stream",
     "text": [
      "c:\\Users\\Lenovo\\AppData\\Local\\Continuum\\anaconda3\\lib\\site-packages\\ipykernel_launcher.py:1: DeprecationWarning: The default dtype for empty Series will be 'object' instead of 'float64' in a future version. Specify a dtype explicitly to silence this warning.\n",
      "  \"\"\"Entry point for launching an IPython kernel.\n",
      "c:\\Users\\Lenovo\\AppData\\Local\\Continuum\\anaconda3\\lib\\site-packages\\ipykernel_launcher.py:2: SettingWithCopyWarning: \n",
      "A value is trying to be set on a copy of a slice from a DataFrame\n",
      "\n",
      "See the caveats in the documentation: https://pandas.pydata.org/pandas-docs/stable/user_guide/indexing.html#returning-a-view-versus-a-copy\n",
      "  \n",
      "c:\\Users\\Lenovo\\AppData\\Local\\Continuum\\anaconda3\\lib\\site-packages\\ipykernel_launcher.py:3: SettingWithCopyWarning: \n",
      "A value is trying to be set on a copy of a slice from a DataFrame\n",
      "\n",
      "See the caveats in the documentation: https://pandas.pydata.org/pandas-docs/stable/user_guide/indexing.html#returning-a-view-versus-a-copy\n",
      "  This is separate from the ipykernel package so we can avoid doing imports until\n"
     ]
    }
   ],
   "source": [
    "text1['senti_cati'] = pd.Series()\n",
    "text1['senti_cati'][np.where(text1['sentimate']<=0.5)[0]]=0\n",
    "text1['senti_cati'][np.where(text1['sentimate']>0.5)[0]]=1"
   ]
  },
  {
   "cell_type": "code",
   "execution_count": 32,
   "metadata": {},
   "outputs": [
    {
     "data": {
      "text/html": [
       "<div>\n",
       "<style scoped>\n",
       "    .dataframe tbody tr th:only-of-type {\n",
       "        vertical-align: middle;\n",
       "    }\n",
       "\n",
       "    .dataframe tbody tr th {\n",
       "        vertical-align: top;\n",
       "    }\n",
       "\n",
       "    .dataframe thead th {\n",
       "        text-align: right;\n",
       "    }\n",
       "</style>\n",
       "<table border=\"1\" class=\"dataframe\">\n",
       "  <thead>\n",
       "    <tr style=\"text-align: right;\">\n",
       "      <th></th>\n",
       "      <th>Unnamed: 0</th>\n",
       "      <th>发布时间</th>\n",
       "      <th>微博id</th>\n",
       "      <th>用户id</th>\n",
       "      <th>用户名</th>\n",
       "      <th>正文</th>\n",
       "      <th>转发数</th>\n",
       "      <th>评论数</th>\n",
       "      <th>点赞数</th>\n",
       "      <th>用户粉丝数</th>\n",
       "      <th>用户关注数</th>\n",
       "      <th>用户推文数</th>\n",
       "      <th>用户地址</th>\n",
       "      <th>微博网址</th>\n",
       "      <th>评论</th>\n",
       "      <th>sentimate</th>\n",
       "      <th>tag</th>\n",
       "      <th>senti_cati</th>\n",
       "    </tr>\n",
       "  </thead>\n",
       "  <tbody>\n",
       "    <tr>\n",
       "      <th>3</th>\n",
       "      <td>3569</td>\n",
       "      <td>2018-07-04 09:56:00</td>\n",
       "      <td>4.258000e+15</td>\n",
       "      <td>1438213863</td>\n",
       "      <td>ss李思思ss</td>\n",
       "      <td>先从口感来说，@CoffeeBox连咖啡 coffee box就已经输了，对于常年喝咖啡的同...</td>\n",
       "      <td>0</td>\n",
       "      <td>3</td>\n",
       "      <td>16</td>\n",
       "      <td>2.8万</td>\n",
       "      <td>847</td>\n",
       "      <td>4880</td>\n",
       "      <td>北京</td>\n",
       "      <td>https://weibo.com/1438213863/GokNJg4fc?refer_f...</td>\n",
       "      <td>[]</td>\n",
       "      <td>9.864705e-01</td>\n",
       "      <td>0.0</td>\n",
       "      <td>1.0</td>\n",
       "    </tr>\n",
       "    <tr>\n",
       "      <th>10</th>\n",
       "      <td>2032</td>\n",
       "      <td>2018-05-21 09:26:00</td>\n",
       "      <td>4.242050e+15</td>\n",
       "      <td>3086565971</td>\n",
       "      <td>睡不醒的二次元小姐姐</td>\n",
       "      <td>我也算@luckincoffee瑞幸咖啡 第一批客户之一了吧，点过几次都发现同一个问题导致我...</td>\n",
       "      <td>0</td>\n",
       "      <td>4</td>\n",
       "      <td>0</td>\n",
       "      <td>382</td>\n",
       "      <td>638</td>\n",
       "      <td>1227</td>\n",
       "      <td>浙江</td>\n",
       "      <td>https://weibo.com/3086565971/GhDNR5Uea?refer_f...</td>\n",
       "      <td>[]</td>\n",
       "      <td>9.643625e-01</td>\n",
       "      <td>0.0</td>\n",
       "      <td>1.0</td>\n",
       "    </tr>\n",
       "    <tr>\n",
       "      <th>13</th>\n",
       "      <td>12464</td>\n",
       "      <td>2018-12-14 09:29:00</td>\n",
       "      <td>4.317060e+15</td>\n",
       "      <td>6556150986</td>\n",
       "      <td>嗨够直播</td>\n",
       "      <td>今日热点百度年度搜索词报告来袭徐峥自曝20岁秃顶，既心酸又好笑共享汽车途歌被曝退押金难瑞幸咖...</td>\n",
       "      <td>0</td>\n",
       "      <td>0</td>\n",
       "      <td>1</td>\n",
       "      <td>9065</td>\n",
       "      <td>75</td>\n",
       "      <td>645</td>\n",
       "      <td>未知</td>\n",
       "      <td>https://weibo.com/6556150986/H79PnvgaG?refer_f...</td>\n",
       "      <td>[]</td>\n",
       "      <td>9.999766e-01</td>\n",
       "      <td>0.0</td>\n",
       "      <td>1.0</td>\n",
       "    </tr>\n",
       "    <tr>\n",
       "      <th>25</th>\n",
       "      <td>12510</td>\n",
       "      <td>2018-12-17 19:26:00</td>\n",
       "      <td>4.318300e+15</td>\n",
       "      <td>5764915814</td>\n",
       "      <td>今天会成为富婆么</td>\n",
       "      <td>#luckin coffee瑞幸咖啡# 今天是个lucky的一天 ???我要lucky[小仙...</td>\n",
       "      <td>0</td>\n",
       "      <td>0</td>\n",
       "      <td>3</td>\n",
       "      <td>1225</td>\n",
       "      <td>245</td>\n",
       "      <td>589</td>\n",
       "      <td>江苏</td>\n",
       "      <td>https://weibo.com/5764915814/H7G1e97Pv?refer_f...</td>\n",
       "      <td>[]</td>\n",
       "      <td>2.534497e-01</td>\n",
       "      <td>1.0</td>\n",
       "      <td>0.0</td>\n",
       "    </tr>\n",
       "    <tr>\n",
       "      <th>27</th>\n",
       "      <td>35</td>\n",
       "      <td>2018-01-30 11:08:00</td>\n",
       "      <td>4.201850e+15</td>\n",
       "      <td>1769076893</td>\n",
       "      <td>Sherry章</td>\n",
       "      <td>用朋友给的“新家旺财”红包买了一杯焦糖加浓美式，新发现的咖啡品牌@luckincoffee瑞...</td>\n",
       "      <td>0</td>\n",
       "      <td>0</td>\n",
       "      <td>0</td>\n",
       "      <td>7379</td>\n",
       "      <td>715</td>\n",
       "      <td>16309</td>\n",
       "      <td>上海</td>\n",
       "      <td>https://weibo.com/1769076893/G0M2dvNW7?refer_f...</td>\n",
       "      <td>[]</td>\n",
       "      <td>2.064800e-01</td>\n",
       "      <td>1.0</td>\n",
       "      <td>0.0</td>\n",
       "    </tr>\n",
       "    <tr>\n",
       "      <th>...</th>\n",
       "      <td>...</td>\n",
       "      <td>...</td>\n",
       "      <td>...</td>\n",
       "      <td>...</td>\n",
       "      <td>...</td>\n",
       "      <td>...</td>\n",
       "      <td>...</td>\n",
       "      <td>...</td>\n",
       "      <td>...</td>\n",
       "      <td>...</td>\n",
       "      <td>...</td>\n",
       "      <td>...</td>\n",
       "      <td>...</td>\n",
       "      <td>...</td>\n",
       "      <td>...</td>\n",
       "      <td>...</td>\n",
       "      <td>...</td>\n",
       "      <td>...</td>\n",
       "    </tr>\n",
       "    <tr>\n",
       "      <th>14677</th>\n",
       "      <td>8268</td>\n",
       "      <td>2018-10-21 15:27:00</td>\n",
       "      <td>4.297580e+15</td>\n",
       "      <td>2405436191</td>\n",
       "      <td>小ka不爱吃肉</td>\n",
       "      <td>#luckin coffee瑞幸咖啡# @luckincoffee瑞幸咖啡 西安的瑞幸终于来...</td>\n",
       "      <td>0</td>\n",
       "      <td>2</td>\n",
       "      <td>0</td>\n",
       "      <td>671</td>\n",
       "      <td>205</td>\n",
       "      <td>2479</td>\n",
       "      <td>陕西</td>\n",
       "      <td>https://weibo.com/2405436191/GEWyf980J?refer_f...</td>\n",
       "      <td>[]</td>\n",
       "      <td>1.629486e-02</td>\n",
       "      <td>1.0</td>\n",
       "      <td>0.0</td>\n",
       "    </tr>\n",
       "    <tr>\n",
       "      <th>14680</th>\n",
       "      <td>4786</td>\n",
       "      <td>2018-08-06 14:03:00</td>\n",
       "      <td>4.270020e+15</td>\n",
       "      <td>2645598363</td>\n",
       "      <td>雨晗的快乐时光</td>\n",
       "      <td>最近越是心事重重，越是更多的想起你，想着貌似是不是该生日时送你份礼物，可又要送什么呢？耳机里...</td>\n",
       "      <td>0</td>\n",
       "      <td>0</td>\n",
       "      <td>0</td>\n",
       "      <td>111</td>\n",
       "      <td>199</td>\n",
       "      <td>796</td>\n",
       "      <td>北京</td>\n",
       "      <td>https://weibo.com/2645598363/Gtnwp3r6F?refer_f...</td>\n",
       "      <td>[]</td>\n",
       "      <td>9.999979e-01</td>\n",
       "      <td>0.0</td>\n",
       "      <td>1.0</td>\n",
       "    </tr>\n",
       "    <tr>\n",
       "      <th>14684</th>\n",
       "      <td>5279</td>\n",
       "      <td>2018-08-16 18:29:00</td>\n",
       "      <td>4.273710e+15</td>\n",
       "      <td>2112529282</td>\n",
       "      <td>番茄没炒蛋-达叔</td>\n",
       "      <td>天津瑞幸咖啡诚聘客服人员，接听服务热线电话，受理客户咨询、业务办理等服务项目，无销售性质。薪...</td>\n",
       "      <td>0</td>\n",
       "      <td>0</td>\n",
       "      <td>0</td>\n",
       "      <td>1907</td>\n",
       "      <td>1200</td>\n",
       "      <td>20805</td>\n",
       "      <td>未知</td>\n",
       "      <td>https://weibo.com/2112529282/GuVxi5vZ2?refer_f...</td>\n",
       "      <td>[]</td>\n",
       "      <td>4.523243e-08</td>\n",
       "      <td>1.0</td>\n",
       "      <td>0.0</td>\n",
       "    </tr>\n",
       "    <tr>\n",
       "      <th>14685</th>\n",
       "      <td>13214</td>\n",
       "      <td>2018-12-23 20:37:00</td>\n",
       "      <td>4.320490e+15</td>\n",
       "      <td>3195675032</td>\n",
       "      <td>宁波招聘栏</td>\n",
       "      <td>宁波招聘 瑞幸咖啡兼职招聘工作内容：-负责咖啡制作、外卖打包、门店清洁工作任职要求：-性别...</td>\n",
       "      <td>0</td>\n",
       "      <td>0</td>\n",
       "      <td>1</td>\n",
       "      <td>116.8万</td>\n",
       "      <td>99</td>\n",
       "      <td>178543</td>\n",
       "      <td>未知</td>\n",
       "      <td>https://weibo.com/3195675032/H8B327vN2?refer_f...</td>\n",
       "      <td>[]</td>\n",
       "      <td>3.599511e-04</td>\n",
       "      <td>1.0</td>\n",
       "      <td>0.0</td>\n",
       "    </tr>\n",
       "    <tr>\n",
       "      <th>14686</th>\n",
       "      <td>14687</td>\n",
       "      <td>2018-12-27 16:30:00</td>\n",
       "      <td>4.321880e+15</td>\n",
       "      <td>2698452633</td>\n",
       "      <td>李懿如</td>\n",
       "      <td>瑞幸居然亏了8亿，所以投资人是在做慈善吗。 ?</td>\n",
       "      <td>0</td>\n",
       "      <td>0</td>\n",
       "      <td>0</td>\n",
       "      <td>149</td>\n",
       "      <td>50</td>\n",
       "      <td>3198</td>\n",
       "      <td>未知</td>\n",
       "      <td>https://weibo.com/2698452633/H9b8K2uBi?refer_f...</td>\n",
       "      <td>[]</td>\n",
       "      <td>9.803182e-01</td>\n",
       "      <td>0.0</td>\n",
       "      <td>1.0</td>\n",
       "    </tr>\n",
       "  </tbody>\n",
       "</table>\n",
       "<p>3929 rows × 18 columns</p>\n",
       "</div>"
      ],
      "text/plain": [
       "       Unnamed: 0                 发布时间          微博id        用户id         用户名  \\\n",
       "3            3569  2018-07-04 09:56:00  4.258000e+15  1438213863     ss李思思ss   \n",
       "10           2032  2018-05-21 09:26:00  4.242050e+15  3086565971  睡不醒的二次元小姐姐   \n",
       "13          12464  2018-12-14 09:29:00  4.317060e+15  6556150986        嗨够直播   \n",
       "25          12510  2018-12-17 19:26:00  4.318300e+15  5764915814    今天会成为富婆么   \n",
       "27             35  2018-01-30 11:08:00  4.201850e+15  1769076893     Sherry章   \n",
       "...           ...                  ...           ...         ...         ...   \n",
       "14677        8268  2018-10-21 15:27:00  4.297580e+15  2405436191     小ka不爱吃肉   \n",
       "14680        4786  2018-08-06 14:03:00  4.270020e+15  2645598363     雨晗的快乐时光   \n",
       "14684        5279  2018-08-16 18:29:00  4.273710e+15  2112529282    番茄没炒蛋-达叔   \n",
       "14685       13214  2018-12-23 20:37:00  4.320490e+15  3195675032       宁波招聘栏   \n",
       "14686       14687  2018-12-27 16:30:00  4.321880e+15  2698452633         李懿如   \n",
       "\n",
       "                                                      正文  转发数  评论数  点赞数  \\\n",
       "3      先从口感来说，@CoffeeBox连咖啡 coffee box就已经输了，对于常年喝咖啡的同...    0    3   16   \n",
       "10     我也算@luckincoffee瑞幸咖啡 第一批客户之一了吧，点过几次都发现同一个问题导致我...    0    4    0   \n",
       "13     今日热点百度年度搜索词报告来袭徐峥自曝20岁秃顶，既心酸又好笑共享汽车途歌被曝退押金难瑞幸咖...    0    0    1   \n",
       "25     #luckin coffee瑞幸咖啡# 今天是个lucky的一天 ???我要lucky[小仙...    0    0    3   \n",
       "27     用朋友给的“新家旺财”红包买了一杯焦糖加浓美式，新发现的咖啡品牌@luckincoffee瑞...    0    0    0   \n",
       "...                                                  ...  ...  ...  ...   \n",
       "14677  #luckin coffee瑞幸咖啡# @luckincoffee瑞幸咖啡 西安的瑞幸终于来...    0    2    0   \n",
       "14680  最近越是心事重重，越是更多的想起你，想着貌似是不是该生日时送你份礼物，可又要送什么呢？耳机里...    0    0    0   \n",
       "14684  天津瑞幸咖啡诚聘客服人员，接听服务热线电话，受理客户咨询、业务办理等服务项目，无销售性质。薪...    0    0    0   \n",
       "14685  宁波招聘 瑞幸咖啡兼职招聘工作内容：-负责咖啡制作、外卖打包、门店清洁工作任职要求：-性别...    0    0    1   \n",
       "14686                            瑞幸居然亏了8亿，所以投资人是在做慈善吗。 ?    0    0    0   \n",
       "\n",
       "        用户粉丝数  用户关注数   用户推文数 用户地址  \\\n",
       "3        2.8万    847    4880   北京   \n",
       "10        382    638    1227   浙江   \n",
       "13       9065     75     645   未知   \n",
       "25       1225    245     589   江苏   \n",
       "27       7379    715   16309   上海   \n",
       "...       ...    ...     ...  ...   \n",
       "14677     671    205    2479   陕西   \n",
       "14680     111    199     796   北京   \n",
       "14684    1907   1200   20805   未知   \n",
       "14685  116.8万     99  178543   未知   \n",
       "14686     149     50    3198   未知   \n",
       "\n",
       "                                                    微博网址  评论     sentimate  \\\n",
       "3      https://weibo.com/1438213863/GokNJg4fc?refer_f...  []  9.864705e-01   \n",
       "10     https://weibo.com/3086565971/GhDNR5Uea?refer_f...  []  9.643625e-01   \n",
       "13     https://weibo.com/6556150986/H79PnvgaG?refer_f...  []  9.999766e-01   \n",
       "25     https://weibo.com/5764915814/H7G1e97Pv?refer_f...  []  2.534497e-01   \n",
       "27     https://weibo.com/1769076893/G0M2dvNW7?refer_f...  []  2.064800e-01   \n",
       "...                                                  ...  ..           ...   \n",
       "14677  https://weibo.com/2405436191/GEWyf980J?refer_f...  []  1.629486e-02   \n",
       "14680  https://weibo.com/2645598363/Gtnwp3r6F?refer_f...  []  9.999979e-01   \n",
       "14684  https://weibo.com/2112529282/GuVxi5vZ2?refer_f...  []  4.523243e-08   \n",
       "14685  https://weibo.com/3195675032/H8B327vN2?refer_f...  []  3.599511e-04   \n",
       "14686  https://weibo.com/2698452633/H9b8K2uBi?refer_f...  []  9.803182e-01   \n",
       "\n",
       "       tag  senti_cati  \n",
       "3      0.0         1.0  \n",
       "10     0.0         1.0  \n",
       "13     0.0         1.0  \n",
       "25     1.0         0.0  \n",
       "27     1.0         0.0  \n",
       "...    ...         ...  \n",
       "14677  1.0         0.0  \n",
       "14680  0.0         1.0  \n",
       "14684  1.0         0.0  \n",
       "14685  1.0         0.0  \n",
       "14686  0.0         1.0  \n",
       "\n",
       "[3929 rows x 18 columns]"
      ]
     },
     "execution_count": 32,
     "metadata": {},
     "output_type": "execute_result"
    }
   ],
   "source": [
    "att = text1.iloc[np.where(text1['senti_cati']!=text1['tag'])[0],:]\n",
    "att = att.iloc[list(~att['tag'].isnull()),:]\n",
    "att"
   ]
  },
  {
   "cell_type": "code",
   "execution_count": 33,
   "metadata": {},
   "outputs": [
    {
     "data": {
      "text/html": [
       "<div>\n",
       "<style scoped>\n",
       "    .dataframe tbody tr th:only-of-type {\n",
       "        vertical-align: middle;\n",
       "    }\n",
       "\n",
       "    .dataframe tbody tr th {\n",
       "        vertical-align: top;\n",
       "    }\n",
       "\n",
       "    .dataframe thead th {\n",
       "        text-align: right;\n",
       "    }\n",
       "</style>\n",
       "<table border=\"1\" class=\"dataframe\">\n",
       "  <thead>\n",
       "    <tr style=\"text-align: right;\">\n",
       "      <th></th>\n",
       "      <th>正文</th>\n",
       "      <th>tag</th>\n",
       "      <th>senti_cati</th>\n",
       "    </tr>\n",
       "  </thead>\n",
       "  <tbody>\n",
       "    <tr>\n",
       "      <th>3</th>\n",
       "      <td>先从口感来说，@CoffeeBox连咖啡 coffee box就已经输了，对于常年喝咖啡的同...</td>\n",
       "      <td>0.0</td>\n",
       "      <td>1.0</td>\n",
       "    </tr>\n",
       "    <tr>\n",
       "      <th>10</th>\n",
       "      <td>我也算@luckincoffee瑞幸咖啡 第一批客户之一了吧，点过几次都发现同一个问题导致我...</td>\n",
       "      <td>0.0</td>\n",
       "      <td>1.0</td>\n",
       "    </tr>\n",
       "    <tr>\n",
       "      <th>13</th>\n",
       "      <td>今日热点百度年度搜索词报告来袭徐峥自曝20岁秃顶，既心酸又好笑共享汽车途歌被曝退押金难瑞幸咖...</td>\n",
       "      <td>0.0</td>\n",
       "      <td>1.0</td>\n",
       "    </tr>\n",
       "    <tr>\n",
       "      <th>25</th>\n",
       "      <td>#luckin coffee瑞幸咖啡# 今天是个lucky的一天 ???我要lucky[小仙...</td>\n",
       "      <td>1.0</td>\n",
       "      <td>0.0</td>\n",
       "    </tr>\n",
       "    <tr>\n",
       "      <th>27</th>\n",
       "      <td>用朋友给的“新家旺财”红包买了一杯焦糖加浓美式，新发现的咖啡品牌@luckincoffee瑞...</td>\n",
       "      <td>1.0</td>\n",
       "      <td>0.0</td>\n",
       "    </tr>\n",
       "    <tr>\n",
       "      <th>...</th>\n",
       "      <td>...</td>\n",
       "      <td>...</td>\n",
       "      <td>...</td>\n",
       "    </tr>\n",
       "    <tr>\n",
       "      <th>14677</th>\n",
       "      <td>#luckin coffee瑞幸咖啡# @luckincoffee瑞幸咖啡 西安的瑞幸终于来...</td>\n",
       "      <td>1.0</td>\n",
       "      <td>0.0</td>\n",
       "    </tr>\n",
       "    <tr>\n",
       "      <th>14680</th>\n",
       "      <td>最近越是心事重重，越是更多的想起你，想着貌似是不是该生日时送你份礼物，可又要送什么呢？耳机里...</td>\n",
       "      <td>0.0</td>\n",
       "      <td>1.0</td>\n",
       "    </tr>\n",
       "    <tr>\n",
       "      <th>14684</th>\n",
       "      <td>天津瑞幸咖啡诚聘客服人员，接听服务热线电话，受理客户咨询、业务办理等服务项目，无销售性质。薪...</td>\n",
       "      <td>1.0</td>\n",
       "      <td>0.0</td>\n",
       "    </tr>\n",
       "    <tr>\n",
       "      <th>14685</th>\n",
       "      <td>宁波招聘 瑞幸咖啡兼职招聘工作内容：-负责咖啡制作、外卖打包、门店清洁工作任职要求：-性别...</td>\n",
       "      <td>1.0</td>\n",
       "      <td>0.0</td>\n",
       "    </tr>\n",
       "    <tr>\n",
       "      <th>14686</th>\n",
       "      <td>瑞幸居然亏了8亿，所以投资人是在做慈善吗。 ?</td>\n",
       "      <td>0.0</td>\n",
       "      <td>1.0</td>\n",
       "    </tr>\n",
       "  </tbody>\n",
       "</table>\n",
       "<p>3929 rows × 3 columns</p>\n",
       "</div>"
      ],
      "text/plain": [
       "                                                      正文  tag  senti_cati\n",
       "3      先从口感来说，@CoffeeBox连咖啡 coffee box就已经输了，对于常年喝咖啡的同...  0.0         1.0\n",
       "10     我也算@luckincoffee瑞幸咖啡 第一批客户之一了吧，点过几次都发现同一个问题导致我...  0.0         1.0\n",
       "13     今日热点百度年度搜索词报告来袭徐峥自曝20岁秃顶，既心酸又好笑共享汽车途歌被曝退押金难瑞幸咖...  0.0         1.0\n",
       "25     #luckin coffee瑞幸咖啡# 今天是个lucky的一天 ???我要lucky[小仙...  1.0         0.0\n",
       "27     用朋友给的“新家旺财”红包买了一杯焦糖加浓美式，新发现的咖啡品牌@luckincoffee瑞...  1.0         0.0\n",
       "...                                                  ...  ...         ...\n",
       "14677  #luckin coffee瑞幸咖啡# @luckincoffee瑞幸咖啡 西安的瑞幸终于来...  1.0         0.0\n",
       "14680  最近越是心事重重，越是更多的想起你，想着貌似是不是该生日时送你份礼物，可又要送什么呢？耳机里...  0.0         1.0\n",
       "14684  天津瑞幸咖啡诚聘客服人员，接听服务热线电话，受理客户咨询、业务办理等服务项目，无销售性质。薪...  1.0         0.0\n",
       "14685  宁波招聘 瑞幸咖啡兼职招聘工作内容：-负责咖啡制作、外卖打包、门店清洁工作任职要求：-性别...  1.0         0.0\n",
       "14686                            瑞幸居然亏了8亿，所以投资人是在做慈善吗。 ?  0.0         1.0\n",
       "\n",
       "[3929 rows x 3 columns]"
      ]
     },
     "execution_count": 33,
     "metadata": {},
     "output_type": "execute_result"
    }
   ],
   "source": [
    "wanted = att[['正文','tag','senti_cati']]\n",
    "wanted"
   ]
  },
  {
   "cell_type": "code",
   "execution_count": 37,
   "metadata": {},
   "outputs": [],
   "source": [
    "wanted.to_csv('disalignment_lukin_2018.csv',encoding='utf-8')"
   ]
  },
  {
   "cell_type": "markdown",
   "metadata": {},
   "source": [
    "# load data with CBA tag"
   ]
  },
  {
   "cell_type": "code",
   "execution_count": 3,
   "metadata": {},
   "outputs": [
    {
     "name": "stderr",
     "output_type": "stream",
     "text": [
      "c:\\Users\\Lenovo\\AppData\\Local\\Continuum\\anaconda3\\lib\\site-packages\\IPython\\core\\interactiveshell.py:3258: DtypeWarning: Columns (2,3,6,7,8,10,11) have mixed types.Specify dtype option on import or set low_memory=False.\n",
      "  interactivity=interactivity, compiler=compiler, result=result)\n"
     ]
    }
   ],
   "source": [
    "text1 = pd.read_csv('lukin_2018_tag_new.csv',index_col=1,parse_dates = ['发布时间'])\n",
    "text2 = pd.read_csv('lukin_2022_tag_new.csv',index_col=1,parse_dates = ['发布时间'])\n",
    "text3 = pd.read_csv('starbuck_2018_tag_new.csv',index_col=1,parse_dates = ['发布时间'])\n",
    "text4 = pd.read_csv('starbuck_2022_tag_new.csv',index_col=1,parse_dates = ['发布时间'])"
   ]
  },
  {
   "cell_type": "code",
   "execution_count": 4,
   "metadata": {},
   "outputs": [],
   "source": [
    "text2 = text2.drop(text2.index[list(np.where(text2.index=='发布时间')[0])],axis=0)\n",
    "text2.index = pd.to_datetime(text2.index)"
   ]
  },
  {
   "cell_type": "code",
   "execution_count": 5,
   "metadata": {},
   "outputs": [],
   "source": [
    "text3 = text3.drop(text3.index[list(np.where(text3.index=='发布时间')[0])],axis=0)\n",
    "text3.index = pd.to_datetime(text3.index)"
   ]
  },
  {
   "cell_type": "code",
   "execution_count": 6,
   "metadata": {},
   "outputs": [],
   "source": [
    "text4 = text4.drop(text4.index[list(np.where(text4.index=='发布时间')[0])],axis=0)\n",
    "text4.index = pd.to_datetime(text4.index)"
   ]
  },
  {
   "cell_type": "markdown",
   "metadata": {},
   "source": [
    "# 情感趋势按时间"
   ]
  },
  {
   "cell_type": "code",
   "execution_count": 7,
   "metadata": {},
   "outputs": [],
   "source": [
    "import datetime"
   ]
  },
  {
   "cell_type": "code",
   "execution_count": 18,
   "metadata": {},
   "outputs": [],
   "source": [
    "day_2018_index = []\n",
    "day_2022_index = []\n",
    "day_sentiment_lukin_2018_av = []\n",
    "day_sentiment_lukin_2022_av = []\n",
    "day_sentiment_starbuck_2018_av = []\n",
    "day_sentiment_starbuck_2022_av = []\n",
    "day_of_month = [31,28,31,30,31,30,31,31,30,31,30,31]\n",
    "for month in range(1,13):\n",
    "  #  for day in range(1,day_of_month[month-1]+1):\n",
    "    target_date_begin = datetime.datetime(2018,month,1,0,0,0)\n",
    "    target_date_end = datetime.datetime(2018,month,day_of_month[month-1],23,59,59)\n",
    "    day_2018_index.append(datetime.date(2018,month,1))\n",
    "    cur_text_1 = text1[text1.index>target_date_begin]\n",
    "    cur_text_1 = cur_text_1[cur_text_1.index<target_date_end]\n",
    "    day_sentiment_lukin_2018_av.append(np.where(cur_text_1['tag']==1)[0].shape[0]/cur_text_1.shape[0])\n",
    "    cur_text_3 = text3[text3.index>target_date_begin]\n",
    "    cur_text_3 = cur_text_3[cur_text_3.index<target_date_end]\n",
    "    day_sentiment_starbuck_2018_av.append(np.where(cur_text_3['tag']==1)[0].shape[0]/cur_text_3.shape[0])\n",
    "for month in range(1,9):\n",
    "    target_date_begin = datetime.datetime(2022,month,1,0,0,0)\n",
    "    target_date_end = datetime.datetime(2022,month,day_of_month[month-1],23,59,59)\n",
    "    day_2022_index.append(datetime.date(2022,month,1))\n",
    "    cur_text_2 = text2[text2.index>target_date_begin]\n",
    "    cur_text_2 = cur_text_2[cur_text_2.index<target_date_end]\n",
    "    day_sentiment_lukin_2022_av.append(np.where(cur_text_2['tag']==1)[0].shape[0]/cur_text_2.shape[0])\n",
    "    cur_text_4 = text4[text4.index>target_date_begin]\n",
    "    cur_text_4 = cur_text_4[cur_text_4.index<target_date_end]\n",
    "    day_sentiment_starbuck_2022_av.append(np.where(cur_text_4['tag']==1)[0].shape[0]/cur_text_4.shape[0])"
   ]
  },
  {
   "cell_type": "code",
   "execution_count": 8,
   "metadata": {},
   "outputs": [],
   "source": [
    "from scipy import interpolate"
   ]
  },
  {
   "cell_type": "code",
   "execution_count": 20,
   "metadata": {},
   "outputs": [],
   "source": [
    "date_start = datetime.date(2018,1,1)\n",
    "date_end = datetime.date(2018,12,31)\n",
    "date_list = []\n",
    "while date_start<=date_end:\n",
    "    date_list.append(date_start)\n",
    "    date_start+=datetime.timedelta(days=+1)"
   ]
  },
  {
   "cell_type": "code",
   "execution_count": 21,
   "metadata": {},
   "outputs": [
    {
     "data": {
      "image/png": "[encoded data removed]",
      "text/plain": [
       "<Figure size 640x480 with 1 Axes>"
      ]
     },
     "metadata": {},
     "output_type": "display_data"
    }
   ],
   "source": [
    "x= list(range(len(day_2018_index)))\n",
    "xnew = np.linspace(0,11,365)\n",
    "f1 = interpolate.interp1d(x,day_sentiment_lukin_2018_av,kind='cubic')\n",
    "lukin_new = f1(xnew)\n",
    "f2 = interpolate.interp1d(x,day_sentiment_starbuck_2018_av,kind='cubic')\n",
    "starbuck_new = f2(xnew)\n",
    "fig = plt.figure()\n",
    "ax=fig.subplots()\n",
    "line1 = ax.fill_between(date_list,lukin_new,color='darkcyan',alpha=0.5)\n",
    "line2 = ax.fill_between(date_list,starbuck_new,color='mediumseagreen',alpha=0.5)\n",
    "plt.ylim(0.5,1)\n",
    "plt.xlabel('time')\n",
    "plt.ylabel('sentiment')\n",
    "plt.title('sentiment in 2018')\n",
    "plt.legend([line1,line2],['lukin','starbucks'],loc='upper right')\n",
    "plt.grid(True)\n",
    "plt.savefig('./wordcloud/CBA_sentiment_trend_polate_2018.png')\n",
    "plt.show()"
   ]
  },
  {
   "cell_type": "code",
   "execution_count": 22,
   "metadata": {},
   "outputs": [],
   "source": [
    "date_start = datetime.date(2022,1,1)\n",
    "date_end = datetime.date(2022,8,31)\n",
    "date_list = []\n",
    "while date_start<=date_end:\n",
    "    date_list.append(date_start)\n",
    "    date_start+=datetime.timedelta(days=+1)"
   ]
  },
  {
   "cell_type": "code",
   "execution_count": 23,
   "metadata": {},
   "outputs": [
    {
     "data": {
      "image/png": "[encoded data removed]",
      "text/plain": [
       "<Figure size 640x480 with 1 Axes>"
      ]
     },
     "metadata": {},
     "output_type": "display_data"
    }
   ],
   "source": [
    "x= list(range(len(day_2022_index)))\n",
    "xnew = np.linspace(0,7,len(date_list))\n",
    "f1 = interpolate.interp1d(x,day_sentiment_lukin_2022_av,kind='cubic')\n",
    "lukin_new = f1(xnew)\n",
    "f2 = interpolate.interp1d(x,day_sentiment_starbuck_2022_av,kind='cubic')\n",
    "starbuck_new = f2(xnew)\n",
    "fig = plt.figure()\n",
    "ax=fig.subplots()\n",
    "line1 = ax.fill_between(date_list,lukin_new,color='darkcyan',alpha=0.5)\n",
    "line2 = ax.fill_between(date_list,starbuck_new,color='mediumseagreen',alpha=0.5)\n",
    "plt.ylim(0.5,1)\n",
    "plt.xlabel('time')\n",
    "plt.ylabel('sentiment')\n",
    "plt.title('sentiment in 2022')\n",
    "plt.legend([line1,line2],['lukin','starbucks'],loc='upper right')\n",
    "plt.grid(True)\n",
    "plt.savefig('./wordcloud/CBA_sentiment_trend_polate_2022.png')\n",
    "plt.show()"
   ]
  },
  {
   "cell_type": "code",
   "execution_count": 7,
   "metadata": {},
   "outputs": [],
   "source": [
    "import re\n",
    "import collections"
   ]
  },
  {
   "cell_type": "code",
   "execution_count": 28,
   "metadata": {},
   "outputs": [],
   "source": [
    "target_date_begin = datetime.datetime(2018,4,1,0,0,0)\n",
    "target_date_end = datetime.datetime(2018,4,30,23,59,59)\n",
    "\n",
    "low_sent1 = text3[text3.index>target_date_begin]\n",
    "low_sent1 = low_sent1[low_sent1.index<target_date_end]\n",
    "\n",
    "April = low_sent1.iloc[np.where(low_sent1['tag']==0)[0],:]"
   ]
  },
  {
   "cell_type": "code",
   "execution_count": 30,
   "metadata": {},
   "outputs": [
    {
     "name": "stdout",
     "output_type": "stream",
     "text": [
      "[('', 156), (' ', 29), ('星巴克内未点单被逮捕', 15), ('星巴克关闭全美约8000店面', 14), ('星巴克', 11), ('星巴克致癌风波', 10), ('星巴克回应致癌风波', 8), ('星巴克咖啡致癌警告', 7), (' \\u200b', 7), ('网易新闻', 6), ('星巴克致癌', 6)]\n"
     ]
    }
   ],
   "source": [
    "content = ''\n",
    "for i in range(len(April['正文'])):\n",
    "    content += April['正文'][i]\n",
    "\n",
    "tag_pat = re.compile('#(.*?)#')\n",
    "tag_list = tag_pat.findall(content)\n",
    "\n",
    "word_counts = collections.Counter(tag_list) \n",
    "word_counts_top = word_counts.most_common(11)\n",
    "print(word_counts_top)"
   ]
  },
  {
   "cell_type": "code",
   "execution_count": 31,
   "metadata": {},
   "outputs": [],
   "source": [
    "target_date_begin = datetime.datetime(2018,12,1,0,0,0)\n",
    "target_date_end = datetime.datetime(2018,12,31,23,59,59)\n",
    "\n",
    "low_sent1 = text1[text1.index>target_date_begin]\n",
    "low_sent1 = low_sent1[low_sent1.index<target_date_end]\n",
    "\n",
    "Dec = low_sent1.iloc[np.where(low_sent1['tag']==0)[0],:]"
   ]
  },
  {
   "cell_type": "code",
   "execution_count": 33,
   "metadata": {},
   "outputs": [
    {
     "name": "stdout",
     "output_type": "stream",
     "text": [
      "[('瑞幸咖啡9个月巨亏超8亿', 104), ('', 14), ('瑞幸咖啡', 8), ('咖啡', 7), (' ', 6), ('新浪看点', 5), (' ?', 5), ('瑞幸咖啡B轮融资2亿美元', 4), ('瑞幸', 3), ('luckin coffee瑞幸咖啡', 3), ('网易新闻', 3)]\n"
     ]
    }
   ],
   "source": [
    "content = ''\n",
    "for i in range(len(Dec['正文'])):\n",
    "    content += Dec['正文'][i]\n",
    "\n",
    "tag_pat = re.compile('#(.*?)#')\n",
    "tag_list = tag_pat.findall(content)\n",
    "\n",
    "word_counts = collections.Counter(tag_list) \n",
    "word_counts_top = word_counts.most_common(11)\n",
    "print(word_counts_top)"
   ]
  },
  {
   "cell_type": "markdown",
   "metadata": {},
   "source": [
    "# 地区热力图"
   ]
  },
  {
   "cell_type": "code",
   "execution_count": 44,
   "metadata": {},
   "outputs": [],
   "source": [
    "area=['河北','山西','辽宁','吉林','黑龙江','江苏','浙江','安徽','福建','江西','山东','河南','湖北','湖南','广东','海南','四川','贵州','云南','陕西','甘肃','青海','台湾','新疆','西藏','内蒙古','广西','宁夏','北京','天津','上海','重庆','中国台湾','中国香港','中国澳门']"
   ]
  },
  {
   "cell_type": "code",
   "execution_count": 45,
   "metadata": {},
   "outputs": [],
   "source": [
    "cur_area = []\n",
    "senti_area = []\n",
    "for i in range(len(area)):\n",
    "    tar = text1.iloc[np.where(text1['用户地址']==area[i])[0],:]\n",
    "    if tar.shape[0]!=0:\n",
    "        senti_area.append(np.where(tar['tag']==1)[0].shape[0]/tar.shape[0])\n",
    "        cur_area.append(area[i])\n"
   ]
  },
  {
   "cell_type": "code",
   "execution_count": 1,
   "metadata": {},
   "outputs": [],
   "source": [
    "from pyecharts import options as opts\n",
    "from pyecharts.charts import BMap\n",
    "from pyecharts.faker import Faker"
   ]
  },
  {
   "cell_type": "code",
   "execution_count": 10,
   "metadata": {},
   "outputs": [],
   "source": [
    "from pyecharts.charts import Map"
   ]
  },
  {
   "cell_type": "code",
   "execution_count": 47,
   "metadata": {},
   "outputs": [],
   "source": [
    "c = (\n",
    "    BMap()\n",
    "    .add_schema(baidu_ak=\"FAKE_AK\", center=[120.13066322374, 30.240018034923])\n",
    "    .add(\n",
    "        \"bmap\",\n",
    "        [list(z) for z in zip(cur_area, senti_area)],\n",
    "        type_=\"heatmap\",\n",
    "        label_opts=opts.LabelOpts(formatter=\"{b}\"),\n",
    "    )\n",
    "    .set_global_opts(\n",
    "        title_opts=opts.TitleOpts(title=\"BMap-热力图\"), visualmap_opts=opts.VisualMapOpts(max_=1)\n",
    "    )\n",
    "    .render(\"lukin_2018_bmap_heatmap.html\")\n",
    ")"
   ]
  },
  {
   "cell_type": "code",
   "execution_count": 48,
   "metadata": {},
   "outputs": [],
   "source": [
    "c = (\n",
    "    Map(init_opts = opts.InitOpts(width=\"1200px\", height=\"741.6px\"))\n",
    "    .add(\n",
    "        'map',\n",
    "        # 按顺序：省份名字及其值\n",
    "        [list(z) for z in zip(cur_area, senti_area)],\n",
    "        # 放在哪个地图上\n",
    "        \"china\",\n",
    "        # 是否在每个行政区上面显示这个行政区的名字\n",
    "        label_opts=opts.LabelOpts(is_show=True),\n",
    "        is_map_symbol_show = False,\n",
    "    )\n",
    "    .set_global_opts(\n",
    "        # 设置热力图中的最大值是多少\n",
    "        visualmap_opts=opts.VisualMapOpts(max_=1, is_piecewise=True),\n",
    "    )\n",
    "    # 保存，以及文件名\n",
    "    .render(\"lukin_2018_map_china_cities.html\")\n",
    ")"
   ]
  },
  {
   "cell_type": "code",
   "execution_count": 49,
   "metadata": {},
   "outputs": [],
   "source": [
    "cur_area = []\n",
    "senti_area = []\n",
    "for i in range(len(area)):\n",
    "    tar = text2.iloc[np.where(text2['用户地址']==area[i])[0],:]\n",
    "    if tar.shape[0]!=0:\n",
    "        senti_area.append(np.where(tar['tag']==1)[0].shape[0]/tar.shape[0])\n",
    "        cur_area.append(area[i])"
   ]
  },
  {
   "cell_type": "code",
   "execution_count": 50,
   "metadata": {},
   "outputs": [],
   "source": [
    "c = (\n",
    "    Map(init_opts = opts.InitOpts(width=\"1200px\", height=\"741.6px\"))\n",
    "    .add(\n",
    "        'map',\n",
    "        # 按顺序：省份名字及其值\n",
    "        [list(z) for z in zip(cur_area, senti_area)],\n",
    "        # 放在哪个地图上\n",
    "        \"china\",\n",
    "        # 是否在每个行政区上面显示这个行政区的名字\n",
    "        label_opts=opts.LabelOpts(is_show=True),\n",
    "        is_map_symbol_show = False,\n",
    "    )\n",
    "    .set_global_opts(\n",
    "        # 设置热力图中的最大值是多少\n",
    "        visualmap_opts=opts.VisualMapOpts(max_=1, is_piecewise=True),\n",
    "    )\n",
    "    # 保存，以及文件名\n",
    "    .render(\"lukin_2022_map_china_cities.html\")\n",
    ")"
   ]
  },
  {
   "cell_type": "code",
   "execution_count": 51,
   "metadata": {},
   "outputs": [],
   "source": [
    "cur_area = []\n",
    "senti_area = []\n",
    "for i in range(len(area)):\n",
    "    tar = text3.iloc[np.where(text3['用户地址']==area[i])[0],:]\n",
    "    if tar.shape[0]!=0:\n",
    "        senti_area.append(np.where(tar['tag']==1)[0].shape[0]/tar.shape[0])\n",
    "        cur_area.append(area[i])"
   ]
  },
  {
   "cell_type": "code",
   "execution_count": 52,
   "metadata": {},
   "outputs": [],
   "source": [
    "c = (\n",
    "    Map(init_opts = opts.InitOpts(width=\"1200px\", height=\"741.6px\"))\n",
    "    .add(\n",
    "        'map',\n",
    "        # 按顺序：省份名字及其值\n",
    "        [list(z) for z in zip(cur_area, senti_area)],\n",
    "        # 放在哪个地图上\n",
    "        \"china\",\n",
    "        # 是否在每个行政区上面显示这个行政区的名字\n",
    "        label_opts=opts.LabelOpts(is_show=True),\n",
    "        is_map_symbol_show = False,\n",
    "    )\n",
    "    .set_global_opts(\n",
    "        # 设置热力图中的最大值是多少\n",
    "        visualmap_opts=opts.VisualMapOpts(max_=1, is_piecewise=True),\n",
    "    )\n",
    "    # 保存，以及文件名\n",
    "    .render(\"starbuck_2018_map_china_cities.html\")\n",
    ")"
   ]
  },
  {
   "cell_type": "code",
   "execution_count": 53,
   "metadata": {},
   "outputs": [],
   "source": [
    "cur_area = []\n",
    "senti_area = []\n",
    "for i in range(len(area)):\n",
    "    tar = text4.iloc[np.where(text4['用户地址']==area[i])[0],:]\n",
    "    if tar.shape[0]!=0:\n",
    "        senti_area.append(np.where(tar['tag']==1)[0].shape[0]/tar.shape[0])\n",
    "        cur_area.append(area[i])"
   ]
  },
  {
   "cell_type": "code",
   "execution_count": 56,
   "metadata": {},
   "outputs": [],
   "source": [
    "c = (\n",
    "    Map(init_opts = opts.InitOpts(width=\"1200px\", height=\"741.6px\"))\n",
    "    .add(\n",
    "        'map',\n",
    "        # 按顺序：省份名字及其值\n",
    "        [list(z) for z in zip(cur_area, senti_area)],\n",
    "        # 放在哪个地图上\n",
    "        \"china\",\n",
    "        # 是否在每个行政区上面显示这个行政区的名字\n",
    "        label_opts=opts.LabelOpts(is_show=True),\n",
    "        is_map_symbol_show = False,\n",
    "    )\n",
    "    .set_global_opts(\n",
    "        # 设置热力图中的最大值是多少\n",
    "        visualmap_opts=opts.VisualMapOpts(max_=1, is_piecewise=True),\n",
    "    )\n",
    "    # 保存，以及文件名\n",
    "    .render(\"starbuck_2022_map_china_cities.html\")\n",
    ")"
   ]
  },
  {
   "cell_type": "code",
   "execution_count": null,
   "metadata": {},
   "outputs": [],
   "source": [
    "tar = text1.iloc[np.where(text1['用户地址']=='贵州')[0],:]"
   ]
  },
  {
   "cell_type": "code",
   "execution_count": 65,
   "metadata": {},
   "outputs": [
    {
     "data": {
      "text/plain": [
       "'#贵阳身边事# 【男子身无分文迷路13天，烤玉米生炊烟时幸被路政员发现】9月13日，毕节高速公路管理处路政员巡查至杭瑞高速（G56）K1732+800下行时，发现路旁的桥头飘起一缕炊烟。路政员查看后发现，一名四十多岁、衣衫褴褛的男子正在烤玉米吃。原来，男子来自云南昭通，半个月前从老家出来准备去湖南务 ?  展开c'"
      ]
     },
     "execution_count": 65,
     "metadata": {},
     "output_type": "execute_result"
    }
   ],
   "source": [
    "tar['正文'][8]"
   ]
  },
  {
   "cell_type": "code",
   "execution_count": 62,
   "metadata": {},
   "outputs": [
    {
     "data": {
      "text/plain": [
       "(23, 16)"
      ]
     },
     "execution_count": 62,
     "metadata": {},
     "output_type": "execute_result"
    }
   ],
   "source": [
    "tar.shape"
   ]
  },
  {
   "cell_type": "code",
   "execution_count": 67,
   "metadata": {},
   "outputs": [],
   "source": [
    "tar = text3.iloc[np.where(text3['用户地址']=='青海')[0],:]"
   ]
  },
  {
   "cell_type": "code",
   "execution_count": 68,
   "metadata": {},
   "outputs": [
    {
     "data": {
      "text/plain": [
       "发布时间\n",
       "2018-07-10 11:29:00    终于等到你刷爆抖音的网红奶茶鹿角巷首家入驻西宁，强势来袭！力盟国芳百货星巴克对面北家姓美食广...\n",
       "2018-01-30 10:57:00    【女子寻刺激专偷星巴克杯子：家有多辆豪车】近日，杭州一女子在星巴克顺走店内在售的杯子。民警找...\n",
       "2018-03-17 17:52:00    [#沫沫信息#][广告]回想整个冬天不管秋膘冬膘都贴的hin成功呀眼睛一闭一睁，体重就上去了...\n",
       "2018-03-24 17:48:00    [#沫沫信息#][广告]回想整个冬天不管秋膘冬膘都贴的hin成功呀眼睛一闭一睁，体重就上去了...\n",
       "2018-01-19 14:34:00    [#沫友吐槽#]我今天吐个槽！纺织品楼上有个一个猫咖，我和朋友逛街，走累了，去那点个东西喝，...\n",
       "                                             ...                        \n",
       "2018-11-15 16:53:00       西宁打听 有没有在淘宝买过星巴克星享卡的小伙伴呢，怎么样，好用吗谢谢  via@瑞倪啊 ​\n",
       "2018-09-19 12:57:00    香格里拉6期【虎台中学+北大街小学】学区房，南川片区最大的商业区，未来的又一海湖新区即将出现...\n",
       "2018-07-17 17:53:00    【牵手阿里，能给星巴克带来什么？】“有一天星巴克在中国的市场会反超美国”…@虎嗅APP O牵...\n",
       "2018-04-03 17:55:00                        非常想—喝星巴克、吃炸鸡.very very very ​\n",
       "2018-04-04 17:55:00    [#沫沫信息#][广告]回想整个冬天不管秋膘冬膘都贴的hin成功呀眼睛一闭一睁，体重就上去了...\n",
       "Name: 正文, Length: 88, dtype: object"
      ]
     },
     "execution_count": 68,
     "metadata": {},
     "output_type": "execute_result"
    }
   ],
   "source": [
    "tar['正文']"
   ]
  }
 ],
 "metadata": {
  "kernelspec": {
   "display_name": "Python 3.7.0",
   "language": "python",
   "name": "python3"
  },
  "language_info": {
   "codemirror_mode": {
    "name": "ipython",
    "version": 3
   },
   "file_extension": ".py",
   "mimetype": "text/x-python",
   "name": "python",
   "nbconvert_exporter": "python",
   "pygments_lexer": "ipython3",
   "version": "3.7.0"
  },
  "orig_nbformat": 4,
  "vscode": {
   "interpreter": {
    "hash": "5203dce6c5b3102577553be3f701df0e08d0636dd311d246f5b61aec4d93201c"
   }
  }
 },
 "nbformat": 4,
 "nbformat_minor": 2
}
